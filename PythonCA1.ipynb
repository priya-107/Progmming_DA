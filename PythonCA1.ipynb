{
  "nbformat": 4,
  "nbformat_minor": 0,
  "metadata": {
    "colab": {
      "provenance": [],
      "authorship_tag": "ABX9TyPKlVrni/gWfu4sZev80IOC",
      "include_colab_link": true
    },
    "kernelspec": {
      "name": "python3",
      "display_name": "Python 3"
    },
    "language_info": {
      "name": "python"
    }
  },
  "cells": [
    {
      "cell_type": "markdown",
      "metadata": {
        "id": "view-in-github",
        "colab_type": "text"
      },
      "source": [
        "<a href=\"https://colab.research.google.com/github/priya-107/Progmming_DA/blob/main/PythonCA1.ipynb\" target=\"_parent\"><img src=\"https://colab.research.google.com/assets/colab-badge.svg\" alt=\"Open In Colab\"/></a>"
      ]
    },
    {
      "cell_type": "code",
      "execution_count": null,
      "metadata": {
        "id": "tEZx50uK_l4L"
      },
      "outputs": [],
      "source": [
        "#get required packages\n",
        "import json\n",
        "import pandas as pd\n",
        "import requests\n",
        "from bs4 import BeautifulSoup \n"
      ]
    },
    {
      "cell_type": "markdown",
      "source": [
        "Set URL\n",
        "*   site used is 'THE NUMBERS'\n",
        "*   set url of the page chosen for data scarping"
      ],
      "metadata": {
        "id": "dU5RA9vJq8FP"
      }
    },
    {
      "cell_type": "code",
      "source": [
        "url='https://www.the-numbers.com/movies/franchises'"
      ],
      "metadata": {
        "id": "VRfVODyLkxnI"
      },
      "execution_count": null,
      "outputs": []
    },
    {
      "cell_type": "markdown",
      "source": [
        "Creating Header\n",
        "\n",
        "*  check for response payload by inspecting the page\n",
        "*  to use requests package, header should be in dictionary form"
      ],
      "metadata": {
        "id": "X4IVM6S1pz5E"
      }
    },
    {
      "cell_type": "code",
      "source": [
        "header={'accept': 'text/html,application/xhtml+xml,application/xml;q=0.9,image/avif,image/webp,image/apng,*/*;q=0.8,application/signed-exchange;v=b3;q=0.9',\n",
        "'accept-encoding': 'gzip, deflate',\n",
        "'accept-language': 'en',\n",
        "'cookie': '_ga=GA1.2.13631149.1669292023; _gid=GA1.2.654018783.1670168258; PHPSESSID=4qmue6sbjjntvdmek8fkenhu94; _gat_gtag_UA_1343128_1=1',\n",
        "'referer': 'https://www.the-numbers.com/',\n",
        "'sec-ch-ua': '\"Not?A_Brand\";v=\"8\", \"Chromium\";v=\"108\", \"Google Chrome\";v=\"108\"',\n",
        "'sec-ch-ua-mobile': '?0',\n",
        "'sec-ch-ua-platform': '\"Windows\"',\n",
        "'sec-fetch-dest': 'document',\n",
        "'sec-fetch-mode': 'navigate',\n",
        "'sec-fetch-site': 'same-origin',\n",
        "'sec-fetch-user': '?1',\n",
        "'upgrade-insecure-requests': '1',\n",
        "'user-agent': 'Mozilla/5.0 (Windows NT 10.0; Win64; x64) AppleWebKit/537.36 (KHTML, like Gecko) Chrome/108.0.0.0 Safari/537.36'}\n"
      ],
      "metadata": {
        "id": "H7tw8K6BJvJZ"
      },
      "execution_count": null,
      "outputs": []
    },
    {
      "cell_type": "markdown",
      "source": [
        "Calling Method\n",
        "*   requesting for get method on the given url and headers declared as header\n",
        "\n"
      ],
      "metadata": {
        "id": "aImNWPh7sie5"
      }
    },
    {
      "cell_type": "code",
      "source": [
        "r=requests.get(url,headers=header)"
      ],
      "metadata": {
        "id": "IC7hjNoWk6hu"
      },
      "execution_count": null,
      "outputs": []
    },
    {
      "cell_type": "markdown",
      "source": [
        "Check for the Response"
      ],
      "metadata": {
        "id": "xgv1EeN7tGWt"
      }
    },
    {
      "cell_type": "code",
      "source": [
        "r"
      ],
      "metadata": {
        "id": "VMkkHVtllBL-"
      },
      "execution_count": null,
      "outputs": []
    },
    {
      "cell_type": "markdown",
      "source": [
        "Create an object for Beautiful Soup"
      ],
      "metadata": {
        "id": "Pmff7nKPpWCR"
      }
    },
    {
      "cell_type": "code",
      "source": [
        "soup=BeautifulSoup(r.content)"
      ],
      "metadata": {
        "id": "0bG8vpTglPsG"
      },
      "execution_count": null,
      "outputs": []
    },
    {
      "cell_type": "markdown",
      "source": [
        "Get Table Data\n",
        "\n",
        "\n",
        "*   using soup object get contents of table using element and its id\n",
        "*   here element is table and id franchise_overview\n",
        "*   create a table object\n",
        "\n",
        "\n",
        "\n"
      ],
      "metadata": {
        "id": "eLxtCF64tVvU"
      }
    },
    {
      "cell_type": "code",
      "source": [
        "table=soup.find('table',{'id':'franchise_overview'})\n",
        "#table"
      ],
      "metadata": {
        "id": "yxkBasAcz87V"
      },
      "execution_count": null,
      "outputs": []
    },
    {
      "cell_type": "markdown",
      "source": [
        "\n",
        "*   using table object, get body of table to find total no. of rows in the table\n",
        "\n"
      ],
      "metadata": {
        "id": "drvLpaxGv3E3"
      }
    },
    {
      "cell_type": "code",
      "source": [
        "# f=table.find_all('tr')\n",
        "# print(len(f))\n",
        "rowss=table.find_all('tbody')\n",
        "print(len(rowss))\n",
        "rows=rowss[0].find_all('tr')\n",
        "print(len(rows))"
      ],
      "metadata": {
        "id": "lRTF_6rO0PVJ"
      },
      "execution_count": null,
      "outputs": []
    },
    {
      "cell_type": "markdown",
      "source": [
        "*   using table object, get headers of the table\n",
        "*   create headers list to hold all headers\n",
        "\n"
      ],
      "metadata": {
        "id": "hakwnRsNw_37"
      }
    },
    {
      "cell_type": "code",
      "source": [
        "#Table Headers\n",
        "colhead=table.find_all('thead')\n",
        "#print(colhead)\n",
        "col=colhead[0].find_all('th')\n",
        "# print(col)\n",
        "# print(len(col))\n",
        "headers=[]\n",
        "for ind in col:\n",
        "  ind=ind.text\n",
        "  headers.append(ind)\n",
        "print(headers)\n",
        "print(len(headers))\n"
      ],
      "metadata": {
        "id": "nTd5-5r9PZWM"
      },
      "execution_count": null,
      "outputs": []
    },
    {
      "cell_type": "code",
      "source": [
        "#analyse\n",
        "td=rows[1].find_all('td')\n",
        "print(td)\n",
        "name=td[0].find_all('b')\n",
        "#me\n",
        "# name = td[0].find_all('a') \n",
        "# print(name)\n",
        "# print(name[0].text)\n",
        "#me\n",
        "name = name[0].find('a')\n",
        "print(name.text)\n",
        "print(type(name))\n",
        "\n",
        "no_of_movies = td[1].text\n",
        "no_of_movies\n",
        "\n",
        "box=td[2].text\n",
        "print(box)\n",
        "\n",
        "box2=td[3].text\n",
        "print(box2)\n",
        "\n",
        "last=td[7].text\n",
        "print(last)"
      ],
      "metadata": {
        "id": "iKXgCIK_laDK"
      },
      "execution_count": null,
      "outputs": []
    },
    {
      "cell_type": "markdown",
      "source": [
        "Data Cleaning\n",
        "*   removing unwanted separators, spaces and escape sequence\n",
        "\n"
      ],
      "metadata": {
        "id": "1bjQqflAxprJ"
      }
    },
    {
      "cell_type": "code",
      "source": [
        "#data cleaning\n",
        "value=[]\n",
        "for items in rows:\n",
        "  items=items.text  \n",
        "  items=items.replace(',','')\n",
        "  items=items.strip('\\n')\n",
        "  items=items.replace('\\n',',')\n",
        "  value.append(items)\n",
        "print(value)\n",
        "print(len(value))\n",
        "print(value[0])"
      ],
      "metadata": {
        "id": "0LM2I_zu3XgT"
      },
      "execution_count": null,
      "outputs": []
    },
    {
      "cell_type": "markdown",
      "source": [
        "Creating Dataframes"
      ],
      "metadata": {
        "id": "MCaExZbzymNc"
      }
    },
    {
      "cell_type": "code",
      "source": [
        "#creating lists for each header\n",
        "L_Franchise=[]\n",
        "L_No_Movies=[]\n",
        "L_Dom_BO=[]\n",
        "L_Infl_Dom_BO=[]\n",
        "L_WW_BO=[]\n",
        "L_Fyear=[]\n",
        "L_Lyear=[]\n",
        "L_No_Years=[]\n",
        "\n",
        "for head_Items in range(0,len(rows)):\n",
        "  td=rows[head_Items].find_all('td')\n",
        "\n",
        "  #Franchise\n",
        "  name=td[0].find_all('b')\n",
        "  name = name[0].find('a')\n",
        "  L_Franchise.append(name.text)\n",
        "\n",
        "  #No_Of_Movies\n",
        "  movies=td[1].text\n",
        "  L_No_Movies.append(movies)\n",
        "\n",
        "  #Domestic_Box_Office\n",
        "  dbo=td[2].text\n",
        "  L_Dom_BO.append(dbo)\n",
        "\n",
        "  #Inflation_Domestic_Box_Office\n",
        "  idbo=td[3].text\n",
        "  L_Infl_Dom_BO.append(idbo)\n",
        "\n",
        "  #Worlwide_Box_Office\n",
        "  wwbo=td[4].text\n",
        "  L_WW_BO.append(wwbo)\n",
        "\n",
        "  #First_Year\n",
        "  fy=td[5].text\n",
        "  L_Fyear.append(fy)\n",
        "\n",
        "  #Last_Year\n",
        "  ly=td[6].text\n",
        "  L_Lyear.append(ly)\n",
        "\n",
        "  #No_Of_Years\n",
        "  years=td[7].text\n",
        "  L_No_Years.append(years)\n"
      ],
      "metadata": {
        "id": "LwjnyWWjI8ia"
      },
      "execution_count": null,
      "outputs": []
    },
    {
      "cell_type": "code",
      "source": [
        "print(L_Franchise)\n",
        "print(L_No_Movies)\n",
        "print(L_Dom_BO)\n",
        "print(L_Infl_Dom_BO)\n",
        "print(L_WW_BO)\n",
        "print(L_Fyear)\n",
        "print(L_Lyear)\n",
        "print(L_No_Years)"
      ],
      "metadata": {
        "id": "P8ykfZTiKT1t"
      },
      "execution_count": null,
      "outputs": []
    },
    {
      "cell_type": "code",
      "source": [
        "#Creating Dataframe\n",
        "df=pd.DataFrame()\n",
        "df[\"Franchise\"]=L_Franchise\n",
        "df[\"No_Of_Movies\"]=L_No_Movies\n",
        "df[\"Domestic_Box_Office\"]=L_Dom_BO\n",
        "df[\"Inflation_Domestic_Box_Office\"]=L_Infl_Dom_BO\n",
        "df[\"Worlwide_Box_Office\"]=L_WW_BO\n",
        "df[\"First_Year\"]=L_Fyear\n",
        "df[\"Last_Year\"]=L_Lyear\n",
        "df[\"No_Of_Years\"]=L_No_Years\n",
        "print(df)"
      ],
      "metadata": {
        "id": "PnwBs63ELaCT"
      },
      "execution_count": null,
      "outputs": []
    },
    {
      "cell_type": "code",
      "source": [
        "#Creating Dataframe1\n",
        "df1=pd.DataFrame()\n",
        "df1[\"Franchise_Name\"]=L_Franchise\n",
        "df1[\"No_Of_Movies\"]=L_No_Movies\n",
        "print(df1)"
      ],
      "metadata": {
        "id": "Y7l4qi5GLaN2"
      },
      "execution_count": null,
      "outputs": []
    },
    {
      "cell_type": "code",
      "source": [
        "#Creating Dataframe2\n",
        "df2=pd.DataFrame()\n",
        "df2[\"Franchise_Name\"]=L_Franchise\n",
        "df2[\"Domestic_Box_Office\"]=L_Dom_BO\n",
        "df2[\"Inflation_Domestic_Box_Office\"]=L_Infl_Dom_BO\n",
        "df2[\"Worlwide_Box_Office\"]=L_WW_BO\n",
        "print(df2)"
      ],
      "metadata": {
        "id": "BzLLnSidXIzN"
      },
      "execution_count": null,
      "outputs": []
    },
    {
      "cell_type": "code",
      "source": [
        "#dataframe\n",
        "# df=pd.DataFrame({'Column_Names':headers,'Data':rowValue})\n",
        "# print(df)"
      ],
      "metadata": {
        "id": "ygEyGJwTfRlX"
      },
      "execution_count": null,
      "outputs": []
    },
    {
      "cell_type": "markdown",
      "source": [
        "DataBase\n",
        "\n",
        "*   DB used is SQLite3 using webdriver and selenium\n",
        "*   install required packages"
      ],
      "metadata": {
        "id": "KqL6Yq3LzIye"
      }
    },
    {
      "cell_type": "code",
      "source": [
        "!pip install webdriver-manager"
      ],
      "metadata": {
        "id": "Pic4KZHGgszt"
      },
      "execution_count": null,
      "outputs": []
    },
    {
      "cell_type": "code",
      "source": [
        "!pip install selenium"
      ],
      "metadata": {
        "id": "kv7TK6ZJIfo-"
      },
      "execution_count": null,
      "outputs": []
    },
    {
      "cell_type": "code",
      "source": [
        "import sqlite3\n",
        "from selenium import webdriver\n",
        "from webdriver_manager.chrome import ChromeDriverManager\n",
        "from selenium.webdriver.common.keys import Keys\n",
        "from selenium.webdriver.chrome.options import Options\n",
        "from selenium.webdriver.common.by import By"
      ],
      "metadata": {
        "id": "Cw3N5T0aEbuE"
      },
      "execution_count": null,
      "outputs": []
    },
    {
      "cell_type": "markdown",
      "source": [
        "Create DB"
      ],
      "metadata": {
        "id": "zKsJNgrc0-D6"
      }
    },
    {
      "cell_type": "code",
      "source": [
        "#create DB with name 'numbers'\n",
        "connection=sqlite3.connect(\"numbers.db\")"
      ],
      "metadata": {
        "id": "Qprb7zmFIv8m"
      },
      "execution_count": null,
      "outputs": []
    },
    {
      "cell_type": "code",
      "source": [
        "#create an oblect called cursor to communicate with DB\n",
        "cursor=connection.cursor()"
      ],
      "metadata": {
        "id": "wSIVjiKcK2iI"
      },
      "execution_count": null,
      "outputs": []
    },
    {
      "cell_type": "markdown",
      "source": [
        "Create Table"
      ],
      "metadata": {
        "id": "uDpULmp51CbV"
      }
    },
    {
      "cell_type": "code",
      "source": [
        "#create table\n",
        "#cursor.execute('''drop table numbers''')\n",
        "cursor.execute('''CREATE TABLE IF NOT EXISTS numbers (Franchise text,No_Of_Movies integer,Domestic_Box_Office text,Inflation_Domestic_Box_Office text,Worlwide_Box_Office text,First_Year integer,Last_Year integer,No_Of_Years integer)''')\n",
        "#connection.commit()"
      ],
      "metadata": {
        "id": "TY0_1_5hLLcp"
      },
      "execution_count": null,
      "outputs": []
    },
    {
      "cell_type": "markdown",
      "source": [
        "Insert into table numbers from dataframe df"
      ],
      "metadata": {
        "id": "jJ2OdzfY1E7B"
      }
    },
    {
      "cell_type": "code",
      "source": [
        "#insert values\n",
        "df.to_sql(name='numbers',con=connection,if_exists='append',index=False)"
      ],
      "metadata": {
        "id": "vmER4TKdtyEi"
      },
      "execution_count": null,
      "outputs": []
    },
    {
      "cell_type": "markdown",
      "source": [
        "Extract data from DB"
      ],
      "metadata": {
        "id": "kM4WMJPW1Swt"
      }
    },
    {
      "cell_type": "code",
      "source": [
        "cursor.execute('''Select * from numbers''')\n",
        "result=cursor.fetchall()\n",
        "print(result)"
      ],
      "metadata": {
        "id": "XCf5CgKXM-b7"
      },
      "execution_count": null,
      "outputs": []
    },
    {
      "cell_type": "code",
      "source": [
        "for dbrow in cursor.execute('''select * from numbers'''):\n",
        "  print(dbrow)"
      ],
      "metadata": {
        "id": "9gVN1DxjcAbp"
      },
      "execution_count": null,
      "outputs": []
    },
    {
      "cell_type": "code",
      "source": [
        "#get all values from with a particular value\n",
        "cursor.execute(\"select * from numbers where Franchise =:n\",{\"n\":\"Star Wars\"})\n",
        "get_Name=cursor.fetchall()\n",
        "print(get_Name)"
      ],
      "metadata": {
        "id": "6xZrEW2-DZRQ"
      },
      "execution_count": null,
      "outputs": []
    },
    {
      "cell_type": "code",
      "source": [
        "#get all values from with a particular value\n",
        "cursor.execute(\"select No_Of_Years from numbers where Franchise =:n\",{\"n\":\"Star Wars\"})\n",
        "get_Name=cursor.fetchall()\n",
        "print(get_Name)"
      ],
      "metadata": {
        "id": "2-VANPMZC6Dp"
      },
      "execution_count": null,
      "outputs": []
    },
    {
      "cell_type": "markdown",
      "source": [
        "Create, insert value from df1 and extract data from table Movies_in_Franchise"
      ],
      "metadata": {
        "id": "_pd64QJ51ZV0"
      }
    },
    {
      "cell_type": "code",
      "source": [
        "#create table Movies_in_Franchise\n",
        "#cursor.execute('''drop table Movies_in_Franchise''')\n",
        "cursor.execute('''CREATE TABLE IF NOT EXISTS Movies_in_Franchise (Franchise_Name text,No_Of_Movies integer)''')\n",
        "df1.to_sql(name='Movies_in_Franchise',con=connection,if_exists='append',index=False)\n",
        "cursor.execute('''Select * from Movies_in_Franchise''')\n",
        "Movies=cursor.fetchall()\n",
        "print(Movies)"
      ],
      "metadata": {
        "id": "GVseIuRpMtU6"
      },
      "execution_count": null,
      "outputs": []
    },
    {
      "cell_type": "code",
      "source": [
        "#get Franchise with highest & lowest movies\n",
        "cursor.execute('''Select Franchise_Name,Max(No_Of_Movies) from Movies_in_Franchise ''')\n",
        "Maxmovies=cursor.fetchall()\n",
        "print(Maxmovies)\n",
        "print(\"*********************************************************************************\")\n",
        "cursor.execute('''Select Franchise_Name,Min(No_Of_Movies) from Movies_in_Franchise ''')\n",
        "Minmovies=cursor.fetchall()\n",
        "print(Minmovies)"
      ],
      "metadata": {
        "id": "udjXFyQLQplF"
      },
      "execution_count": null,
      "outputs": []
    },
    {
      "cell_type": "markdown",
      "source": [
        "Create, insert value from df2 and extract data from table Box_Office"
      ],
      "metadata": {
        "id": "z4H74x4K10zR"
      }
    },
    {
      "cell_type": "code",
      "source": [
        "#create table Box_Office\n",
        "#cursor.execute('''drop table Box_Office''')\n",
        "cursor.execute('''CREATE TABLE IF NOT EXISTS Box_Office (Franchise_Name text,Domestic_Box_Office text,Inflation_Domestic_Box_Office text,Worlwide_Box_Office text)''')\n",
        "df2.to_sql(name='Box_Office',con=connection,if_exists='append',index=False)\n",
        "cursor.execute('''Select * from Box_Office''')\n",
        "B_O=cursor.fetchall()\n",
        "print(B_O)"
      ],
      "metadata": {
        "id": "8yNMrqfRWr0a"
      },
      "execution_count": null,
      "outputs": []
    },
    {
      "cell_type": "code",
      "source": [
        "#get Franchise with highest & lowest WorldWide_BoxOffice collection\n",
        "cursor.execute('''Select Franchise_Name,Max(Worlwide_Box_Office) from Box_Office''')\n",
        "MaxBO=cursor.fetchall()\n",
        "print(MaxBO)\n",
        "print(\"******************************************************************************\")\n",
        "cursor.execute('''Select Franchise_Name,Min(Worlwide_Box_Office) from Box_Office ''')\n",
        "MinBO=cursor.fetchall()\n",
        "print(MinBO)"
      ],
      "metadata": {
        "id": "PdDB5ri2UubB"
      },
      "execution_count": null,
      "outputs": []
    },
    {
      "cell_type": "markdown",
      "source": [
        "*   Commit and save the DB\n",
        "*   Close DB connection\n",
        "\n"
      ],
      "metadata": {
        "id": "lI1PfAM12BC0"
      }
    },
    {
      "cell_type": "code",
      "source": [
        "connection.commit()\n",
        "connection.close()"
      ],
      "metadata": {
        "id": "gHsXV5xXRYyv"
      },
      "execution_count": null,
      "outputs": []
    }
  ]
}